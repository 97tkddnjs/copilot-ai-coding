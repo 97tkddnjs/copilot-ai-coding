{
 "cells": [
  {
   "cell_type": "markdown",
   "metadata": {},
   "source": [
    "# 백터 관련 설명\n"
   ]
  },
  {
   "cell_type": "markdown",
   "metadata": {},
   "source": [
    "차원 공간에서의 위치를 나타내는 실수 배열입니다. 벡터는 특정 차원의 공간에서의 위치나 방향을 나타내는 수학적 개념"
   ]
  },
  {
   "cell_type": "code",
   "execution_count": 1,
   "metadata": {},
   "outputs": [
    {
     "name": "stderr",
     "output_type": "stream",
     "text": [
      "c:\\Users\\tkddn\\anaconda3\\lib\\site-packages\\sentence_transformers\\cross_encoder\\CrossEncoder.py:11: TqdmExperimentalWarning: Using `tqdm.autonotebook.tqdm` in notebook mode. Use `tqdm.tqdm` instead to force console mode (e.g. in jupyter console)\n",
      "  from tqdm.autonotebook import tqdm, trange\n",
      "<frozen importlib._bootstrap>:228: RuntimeWarning: scipy._lib.messagestream.MessageStream size changed, may indicate binary incompatibility. Expected 56 from C header, got 64 from PyObject\n"
     ]
    },
    {
     "name": "stdout",
     "output_type": "stream",
     "text": [
      "Shape of embeddings: (3, 384)\n",
      "Sentence: 안녕하세요.\n",
      "Embedding: [-0.13156827  0.28255382  0.07691566 -0.3478089   0.00228208]... (dim: 384)\n",
      "Sentence: 저는 인공지능을 공부하고 있습니다.\n",
      "Embedding: [ 0.06565578  0.32837927  0.07303053 -0.39510822  0.1366365 ]... (dim: 384)\n",
      "Sentence: 이 프로젝트는 매우 흥미롭습니다.\n",
      "Embedding: [ 0.3442153   0.26172388  0.03563325 -0.39137572  0.17881182]... (dim: 384)\n"
     ]
    }
   ],
   "source": [
    "from sentence_transformers import SentenceTransformer\n",
    "\n",
    "# 문장 임베딩 모델 로드\n",
    "model = SentenceTransformer('paraphrase-MiniLM-L6-v2')\n",
    "\n",
    "# 샘플 문장\n",
    "sentences = [\"안녕하세요.\", \"저는 인공지능을 공부하고 있습니다.\", \"이 프로젝트는 매우 흥미롭습니다.\"]\n",
    "\n",
    "\n",
    "\n",
    "# 문장 임베딩 생성\n",
    "embeddings = model.encode(sentences)\n",
    "\n",
    "# 임베딩의 크기 출력 (문장 개수, 임베딩 차원)\n",
    "print(f\"Shape of embeddings: {embeddings.shape}\")  \n",
    "\n",
    "\n",
    "\n",
    "# 생성된 임베딩 출력\n",
    "for sentence, embedding in zip(sentences, embeddings):\n",
    "    print(f\"Sentence: {sentence}\")\n",
    "    print(f\"Embedding: {embedding[:5]}... (dim: {len(embedding)})\")  # 임베딩 벡터의 일부만 출력"
   ]
  },
  {
   "cell_type": "markdown",
   "metadata": {},
   "source": [
    "임베딩 원리는 readme.md의 임베딩 원리를 공부하심 됩니다!"
   ]
  }
 ],
 "metadata": {
  "kernelspec": {
   "display_name": "base",
   "language": "python",
   "name": "python3"
  },
  "language_info": {
   "codemirror_mode": {
    "name": "ipython",
    "version": 3
   },
   "file_extension": ".py",
   "mimetype": "text/x-python",
   "name": "python",
   "nbconvert_exporter": "python",
   "pygments_lexer": "ipython3",
   "version": "3.9.12"
  }
 },
 "nbformat": 4,
 "nbformat_minor": 2
}
